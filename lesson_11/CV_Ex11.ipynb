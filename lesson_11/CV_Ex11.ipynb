{
 "cells": [
  {
   "cell_type": "markdown",
   "metadata": {},
   "source": [
    "# Deep Learning\n"
   ]
  },
  {
   "cell_type": "code",
   "execution_count": 1,
   "metadata": {},
   "outputs": [
    {
     "name": "stderr",
     "output_type": "stream",
     "text": [
      "C:\\ProgramData\\Anaconda3\\lib\\site-packages\\h5py\\__init__.py:36: FutureWarning: Conversion of the second argument of issubdtype from `float` to `np.floating` is deprecated. In future, it will be treated as `np.float64 == np.dtype(float).type`.\n",
      "  from ._conv import register_converters as _register_converters\n",
      "Using TensorFlow backend.\n"
     ]
    }
   ],
   "source": [
    "%matplotlib inline\n",
    "\n",
    "import matplotlib.pyplot as plt\n",
    "import numpy as np\n",
    "\n",
    "import keras\n",
    "from keras.models import Sequential\n",
    "from keras.layers import Dense, Dropout, Activation\n",
    "from keras.optimizers import SGD, RMSprop \n",
    "from keras.datasets import fashion_mnist # data set\n"
   ]
  },
  {
   "cell_type": "markdown",
   "metadata": {},
   "source": [
    "###  Load the dataset\n",
    "\n",
    "1. load the `fashion_mnist` dataset\n",
    "\n",
    "2. preprocess the data:\n",
    "\n",
    " a) reshape `x` (train and test)to flat-vector representations: (N, 28x28)\n",
    " \n",
    " b) change the casting of `x` to `float32`\n",
    " \n",
    " c) normalize `x` by dividing its values by 255\n",
    " \n",
    " d) convert `y` to categorical \"one-hot\" representation (use: `keras.utils.to_categorical`)\n",
    " \n"
   ]
  },
  {
   "cell_type": "code",
   "execution_count": 2,
   "metadata": {},
   "outputs": [
    {
     "name": "stdout",
     "output_type": "stream",
     "text": [
      "(60000, 28, 28)\n",
      "(60000,)\n",
      "(60000, 784)\n",
      "(60000, 10)\n"
     ]
    },
    {
     "data": {
      "image/png": "[encoded data removed]",
      "text/plain": [
       "<Figure size 432x288 with 1 Axes>"
      ]
     },
     "metadata": {},
     "output_type": "display_data"
    }
   ],
   "source": [
    "(x_train, y_train), (x_test, y_test) = fashion_mnist.load_data()\n",
    "\n",
    "print(x_train.shape)\n",
    "print(y_train.shape)\n",
    "\n",
    "plt.imshow(x_train[1,:],'gray');\n",
    "\n",
    "x_train = (x_train.reshape(x_train.shape[0], x_train.shape[1] * x_train.shape[2]).astype(np.float32)) / 255\n",
    "x_test = (x_test.reshape(x_test.shape[0], x_test.shape[1] * x_test.shape[2]).astype(np.float32)) / 255\n",
    "\n",
    "y_train = keras.utils.to_categorical(y_train, num_classes=10)\n",
    "y_test = keras.utils.to_categorical(y_test, num_classes=10)\n",
    "\n",
    "print(x_train.shape)\n",
    "print(y_train.shape)\n",
    "\n"
   ]
  },
  {
   "cell_type": "markdown",
   "metadata": {},
   "source": [
    "### 0-layers network\n",
    "\n",
    "Create a 0-layers network, with only 10 output units (one for each class, with softmax activation).\n",
    "\n",
    "Train and evaluate the network. Plot the results (loss and accuracy as a function of training epochs) for the training/testing data.\n",
    "\n",
    "What is the maximal test accuracy you can achieve?\n"
   ]
  },
  {
   "cell_type": "code",
   "execution_count": 3,
   "metadata": {},
   "outputs": [
    {
     "name": "stdout",
     "output_type": "stream",
     "text": [
      "Epoch 1/20\n",
      "60000/60000 [==============================] - 4s 71us/step - loss: 0.6935 - acc: 0.7690\n",
      "Epoch 2/20\n",
      "60000/60000 [==============================] - 3s 53us/step - loss: 0.4963 - acc: 0.8329: 0s - loss: 0.\n",
      "Epoch 3/20\n",
      "60000/60000 [==============================] - 4s 61us/step - loss: 0.4624 - acc: 0.8427\n",
      "Epoch 4/20\n",
      "60000/60000 [==============================] - 3s 55us/step - loss: 0.4454 - acc: 0.8489\n",
      "Epoch 5/20\n",
      "60000/60000 [==============================] - 3s 52us/step - loss: 0.4340 - acc: 0.8525\n",
      "Epoch 6/20\n",
      "60000/60000 [==============================] - 3s 52us/step - loss: 0.4256 - acc: 0.8547\n",
      "Epoch 7/20\n",
      "60000/60000 [==============================] - 3s 52us/step - loss: 0.4196 - acc: 0.8566\n",
      "Epoch 8/20\n",
      "60000/60000 [==============================] - 3s 52us/step - loss: 0.4147 - acc: 0.8578\n",
      "Epoch 9/20\n",
      "60000/60000 [==============================] - 3s 52us/step - loss: 0.4107 - acc: 0.8594\n",
      "Epoch 10/20\n",
      "60000/60000 [==============================] - 3s 52us/step - loss: 0.4083 - acc: 0.8607\n",
      "Epoch 11/20\n",
      "60000/60000 [==============================] - 3s 52us/step - loss: 0.4049 - acc: 0.8613\n",
      "Epoch 12/20\n",
      "60000/60000 [==============================] - 3s 52us/step - loss: 0.4024 - acc: 0.8626\n",
      "Epoch 13/20\n",
      "60000/60000 [==============================] - 3s 54us/step - loss: 0.4002 - acc: 0.8637\n",
      "Epoch 14/20\n",
      "60000/60000 [==============================] - 3s 53us/step - loss: 0.3983 - acc: 0.8640\n",
      "Epoch 15/20\n",
      "60000/60000 [==============================] - 3s 57us/step - loss: 0.3967 - acc: 0.8647\n",
      "Epoch 16/20\n",
      "60000/60000 [==============================] - 4s 59us/step - loss: 0.3946 - acc: 0.8648\n",
      "Epoch 17/20\n",
      "60000/60000 [==============================] - 4s 59us/step - loss: 0.3938 - acc: 0.8667\n",
      "Epoch 18/20\n",
      "60000/60000 [==============================] - 3s 56us/step - loss: 0.3925 - acc: 0.8651\n",
      "Epoch 19/20\n",
      "60000/60000 [==============================] - 3s 58us/step - loss: 0.3915 - acc: 0.8659\n",
      "Epoch 20/20\n",
      "60000/60000 [==============================] - 3s 54us/step - loss: 0.3907 - acc: 0.8656\n",
      "10000/10000 [==============================] - 0s 37us/step\n"
     ]
    },
    {
     "data": {
      "image/png": "[encoded data removed]",
      "text/plain": [
       "<Figure size 432x288 with 1 Axes>"
      ]
     },
     "metadata": {},
     "output_type": "display_data"
    },
    {
     "name": "stdout",
     "output_type": "stream",
     "text": [
      "final :\n",
      "loss = 0.44823038945198057  , accuracy = 0.8493\n"
     ]
    }
   ],
   "source": [
    "import matplotlib.pyplot as plt\n",
    "\n",
    "model = Sequential()\n",
    "model.add(Dense(10, input_dim=x_train.shape[1], activation='softmax'))\n",
    "\n",
    "model.compile(loss='categorical_crossentropy',\n",
    "              optimizer='rmsprop',\n",
    "              metrics=['accuracy'])\n",
    "\n",
    "\n",
    "fr = model.fit(x_train, y_train,\n",
    "          epochs=20,\n",
    "          batch_size=128)\n",
    "score = model.evaluate(x_test, y_test, batch_size=128)\n",
    "\n",
    "x_epochs = list(range(1, 20 + 1))\n",
    "y_loss = fr.history['loss']\n",
    "y_acc = fr.history['acc']\n",
    "\n",
    "plt.plot(x_epochs, y_loss, label = 'loss')\n",
    "plt.plot(x_epochs, y_acc, label = 'accuracy')\n",
    "\n",
    "leg = plt.legend(loc='best', ncol=1, mode=\"expand\", shadow=False, fancybox=False)\n",
    "leg.get_frame().set_alpha(0.4)\n",
    "\n",
    "plt.show()\n",
    "\n",
    "print('final :\\nloss =', score[0], ' , accuracy =', score[1])\n",
    "\n",
    "# max accuracy ~ 0.8675"
   ]
  },
  {
   "cell_type": "markdown",
   "metadata": {},
   "source": [
    "### 1-hidden layer network\n",
    "\n",
    "Add a fully connected hidden layer (64 units with ReLU activation).\n",
    "\n",
    "Train and evaluate the network. Plot the results (loss and accuracy as a function of training epochs) for the training/testing data.\n",
    "\n",
    "What is the maximal test accuracy you can achieve?\n"
   ]
  },
  {
   "cell_type": "code",
   "execution_count": 4,
   "metadata": {},
   "outputs": [
    {
     "name": "stdout",
     "output_type": "stream",
     "text": [
      "Epoch 1/20\n",
      "60000/60000 [==============================] - 5s 85us/step - loss: 1.1048 - acc: 0.6524\n",
      "Epoch 2/20\n",
      "60000/60000 [==============================] - 7s 109us/step - loss: 0.5811 - acc: 0.7595\n",
      "Epoch 3/20\n",
      "60000/60000 [==============================] - 6s 105us/step - loss: 0.5203 - acc: 0.7970\n",
      "Epoch 4/20\n",
      "60000/60000 [==============================] - 7s 117us/step - loss: 0.4689 - acc: 0.8339\n",
      "Epoch 5/20\n",
      "60000/60000 [==============================] - 6s 102us/step - loss: 0.4333 - acc: 0.8486\n",
      "Epoch 6/20\n",
      "60000/60000 [==============================] - 6s 103us/step - loss: 0.4149 - acc: 0.8548\n",
      "Epoch 7/20\n",
      "60000/60000 [==============================] - 6s 102us/step - loss: 0.4009 - acc: 0.8597\n",
      "Epoch 8/20\n",
      "60000/60000 [==============================] - 6s 101us/step - loss: 0.3908 - acc: 0.8626\n",
      "Epoch 9/20\n",
      "60000/60000 [==============================] - 6s 107us/step - loss: 0.3816 - acc: 0.8667\n",
      "Epoch 10/20\n",
      "60000/60000 [==============================] - 7s 113us/step - loss: 0.3739 - acc: 0.8691\n",
      "Epoch 11/20\n",
      "60000/60000 [==============================] - 7s 112us/step - loss: 0.3673 - acc: 0.8710\n",
      "Epoch 12/20\n",
      "60000/60000 [==============================] - 7s 114us/step - loss: 0.3623 - acc: 0.8719\n",
      "Epoch 13/20\n",
      "60000/60000 [==============================] - 7s 113us/step - loss: 0.3566 - acc: 0.8740\n",
      "Epoch 14/20\n",
      "60000/60000 [==============================] - 7s 119us/step - loss: 0.3526 - acc: 0.8754\n",
      "Epoch 15/20\n",
      "60000/60000 [==============================] - 7s 118us/step - loss: 0.3485 - acc: 0.8758\n",
      "Epoch 16/20\n",
      "60000/60000 [==============================] - 4s 63us/step - loss: 0.3424 - acc: 0.8793\n",
      "Epoch 17/20\n",
      "60000/60000 [==============================] - 7s 109us/step - loss: 0.3373 - acc: 0.8795\n",
      "Epoch 18/20\n",
      "60000/60000 [==============================] - 7s 111us/step - loss: 0.3327 - acc: 0.8818\n",
      "Epoch 19/20\n",
      "60000/60000 [==============================] - 6s 105us/step - loss: 0.3276 - acc: 0.8824\n",
      "Epoch 20/20\n",
      "60000/60000 [==============================] - 6s 106us/step - loss: 0.3256 - acc: 0.8827\n",
      "10000/10000 [==============================] - 1s 63us/step\n"
     ]
    },
    {
     "data": {
      "image/png": "[encoded data removed]",
      "text/plain": [
       "<Figure size 432x288 with 1 Axes>"
      ]
     },
     "metadata": {},
     "output_type": "display_data"
    },
    {
     "name": "stdout",
     "output_type": "stream",
     "text": [
      "final :\n",
      "loss = 0.4077820971250534  , accuracy = 0.8624\n"
     ]
    }
   ],
   "source": [
    "import matplotlib.pyplot as plt\n",
    "\n",
    "model = Sequential()\n",
    "model.add(Dense(64, input_dim=x_train.shape[1], activation='softmax'))\n",
    "model.add(Dense(64, activation='relu'))\n",
    "model.add(Dense(10, activation='softmax'))\n",
    "\n",
    "model.compile(loss='categorical_crossentropy',\n",
    "              optimizer='rmsprop',\n",
    "              metrics=['accuracy'])\n",
    "\n",
    "\n",
    "fr = model.fit(x_train, y_train,\n",
    "          epochs=20,\n",
    "          batch_size=128)\n",
    "score = model.evaluate(x_test, y_test, batch_size=128)\n",
    "\n",
    "x_epochs = list(range(1, 20 + 1))\n",
    "y_loss = fr.history['loss']\n",
    "y_acc = fr.history['acc']\n",
    "\n",
    "plt.plot(x_epochs, y_loss, label = 'loss')\n",
    "plt.plot(x_epochs, y_acc, label = 'accuracy')\n",
    "\n",
    "leg = plt.legend(loc='best', ncol=1, mode=\"expand\", shadow=False, fancybox=False)\n",
    "leg.get_frame().set_alpha(0.4)\n",
    "\n",
    "plt.show()\n",
    "\n",
    "print('final :\\nloss =', score[0], ' , accuracy =', score[1])\n",
    "\n",
    "# max accuracy ~ 0.8882"
   ]
  },
  {
   "cell_type": "markdown",
   "metadata": {},
   "source": [
    "### Exploring architectures\n",
    "\n",
    "Try different architecutes: \n",
    "\n",
    "- try changing the number of units in the hidden layer (20, 100, 1000??)\n",
    "- try changing the number of hidden layers (is deeper better than wider?)\n",
    "- try adding dropout layers \n",
    "\n",
    "Summarize all your findings (in graphs and text/table).\n",
    "\n"
   ]
  },
  {
   "cell_type": "code",
   "execution_count": 10,
   "metadata": {},
   "outputs": [
    {
     "name": "stdout",
     "output_type": "stream",
     "text": [
      "----------------------- Description of the Model -----------------------------\n",
      "\n",
      "_________________________________________________________________\n",
      "Layer (type)                 Output Shape              Param #   \n",
      "=================================================================\n",
      "dense_30 (Dense)             (None, 64)                50240     \n",
      "_________________________________________________________________\n",
      "dense_31 (Dense)             (None, 128)               8320      \n",
      "_________________________________________________________________\n",
      "dropout_12 (Dropout)         (None, 128)               0         \n",
      "_________________________________________________________________\n",
      "dense_32 (Dense)             (None, 10)                1290      \n",
      "=================================================================\n",
      "Total params: 59,850\n",
      "Trainable params: 59,850\n",
      "Non-trainable params: 0\n",
      "_________________________________________________________________\n",
      "None \n",
      "\n",
      "\n",
      "Epoch 1/20\n",
      "60000/60000 [==============================] - 6s 100us/step - loss: 0.6330 - acc: 0.7766\n",
      "Epoch 2/20\n",
      "60000/60000 [==============================] - 5s 83us/step - loss: 0.4268 - acc: 0.8464\n",
      "Epoch 3/20\n",
      "60000/60000 [==============================] - 4s 59us/step - loss: 0.3826 - acc: 0.8622\n",
      "Epoch 4/20\n",
      "60000/60000 [==============================] - 6s 98us/step - loss: 0.3592 - acc: 0.8700\n",
      "Epoch 5/20\n",
      "60000/60000 [==============================] - 6s 98us/step - loss: 0.3428 - acc: 0.8764\n",
      "Epoch 6/20\n",
      "60000/60000 [==============================] - 4s 71us/step - loss: 0.3287 - acc: 0.8822\n",
      "Epoch 7/20\n",
      "60000/60000 [==============================] - 4s 68us/step - loss: 0.3180 - acc: 0.8848\n",
      "Epoch 8/20\n",
      "60000/60000 [==============================] - 6s 95us/step - loss: 0.3088 - acc: 0.8881\n",
      "Epoch 9/20\n",
      "60000/60000 [==============================] - 6s 94us/step - loss: 0.3000 - acc: 0.8911\n",
      "Epoch 10/20\n",
      "60000/60000 [==============================] - 6s 105us/step - loss: 0.2954 - acc: 0.8923\n",
      "Epoch 11/20\n",
      "60000/60000 [==============================] - 5s 90us/step - loss: 0.2902 - acc: 0.8948\n",
      "Epoch 12/20\n",
      "60000/60000 [==============================] - 6s 96us/step - loss: 0.2876 - acc: 0.8957\n",
      "Epoch 13/20\n",
      "60000/60000 [==============================] - 6s 107us/step - loss: 0.2814 - acc: 0.8988\n",
      "Epoch 14/20\n",
      "60000/60000 [==============================] - 6s 93us/step - loss: 0.2798 - acc: 0.8991\n",
      "Epoch 15/20\n",
      "60000/60000 [==============================] - 3s 43us/step - loss: 0.2747 - acc: 0.9009\n",
      "Epoch 16/20\n",
      "60000/60000 [==============================] - 6s 94us/step - loss: 0.2728 - acc: 0.9015\n",
      "Epoch 17/20\n",
      "60000/60000 [==============================] - 6s 94us/step - loss: 0.2705 - acc: 0.9025\n",
      "Epoch 18/20\n",
      "60000/60000 [==============================] - 6s 92us/step - loss: 0.2680 - acc: 0.9036\n",
      "Epoch 19/20\n",
      "60000/60000 [==============================] - 6s 99us/step - loss: 0.2654 - acc: 0.9039\n",
      "Epoch 20/20\n",
      "60000/60000 [==============================] - 6s 100us/step - loss: 0.2627 - acc: 0.9045\n",
      "10000/10000 [==============================] - 1s 78us/step\n"
     ]
    },
    {
     "data": {
      "image/png": "[encoded data removed]",
      "text/plain": [
       "<Figure size 432x288 with 1 Axes>"
      ]
     },
     "metadata": {},
     "output_type": "display_data"
    },
    {
     "name": "stdout",
     "output_type": "stream",
     "text": [
      "final :\n",
      "loss = 0.4153745903015137  , accuracy = 0.87 \n",
      "\n",
      "\n",
      "\n",
      "\n",
      "----------------------- Description of the Model -----------------------------\n",
      "\n",
      "_________________________________________________________________\n",
      "Layer (type)                 Output Shape              Param #   \n",
      "=================================================================\n",
      "dense_33 (Dense)             (None, 64)                50240     \n",
      "_________________________________________________________________\n",
      "dense_34 (Dense)             (None, 64)                4160      \n",
      "_________________________________________________________________\n",
      "dropout_13 (Dropout)         (None, 64)                0         \n",
      "_________________________________________________________________\n",
      "dense_35 (Dense)             (None, 64)                4160      \n",
      "_________________________________________________________________\n",
      "dropout_14 (Dropout)         (None, 64)                0         \n",
      "_________________________________________________________________\n",
      "dense_36 (Dense)             (None, 64)                4160      \n",
      "_________________________________________________________________\n",
      "dropout_15 (Dropout)         (None, 64)                0         \n",
      "_________________________________________________________________\n",
      "dense_37 (Dense)             (None, 10)                650       \n",
      "=================================================================\n",
      "Total params: 63,370\n",
      "Trainable params: 63,370\n",
      "Non-trainable params: 0\n",
      "_________________________________________________________________\n",
      "None \n",
      "\n",
      "\n",
      "Epoch 1/20\n",
      "60000/60000 [==============================] - 10s 162us/step - loss: 1.0292 - acc: 0.6202\n",
      "Epoch 2/20\n",
      "60000/60000 [==============================] - 5s 81us/step - loss: 0.6047 - acc: 0.7880\n",
      "Epoch 3/20\n",
      "60000/60000 [==============================] - 7s 119us/step - loss: 0.5280 - acc: 0.8225\n",
      "Epoch 4/20\n",
      "60000/60000 [==============================] - 4s 71us/step - loss: 0.4899 - acc: 0.8352\n",
      "Epoch 5/20\n",
      "60000/60000 [==============================] - 7s 121us/step - loss: 0.4628 - acc: 0.8460\n",
      "Epoch 6/20\n",
      "60000/60000 [==============================] - 9s 145us/step - loss: 0.4443 - acc: 0.8530\n",
      "Epoch 7/20\n",
      "60000/60000 [==============================] - 8s 138us/step - loss: 0.4245 - acc: 0.8575\n",
      "Epoch 8/20\n",
      "60000/60000 [==============================] - 8s 132us/step - loss: 0.4252 - acc: 0.8600\n",
      "Epoch 9/20\n",
      "60000/60000 [==============================] - 8s 130us/step - loss: 0.4081 - acc: 0.8649\n",
      "Epoch 10/20\n",
      "60000/60000 [==============================] - 8s 129us/step - loss: 0.4050 - acc: 0.8678\n",
      "Epoch 11/20\n",
      "60000/60000 [==============================] - 9s 143us/step - loss: 0.3972 - acc: 0.8683\n",
      "Epoch 12/20\n",
      "60000/60000 [==============================] - 9s 144us/step - loss: 0.3884 - acc: 0.8711\n",
      "Epoch 13/20\n",
      "60000/60000 [==============================] - 8s 133us/step - loss: 0.3860 - acc: 0.8705\n",
      "Epoch 14/20\n",
      "60000/60000 [==============================] - 9s 148us/step - loss: 0.3818 - acc: 0.8739\n",
      "Epoch 15/20\n",
      "60000/60000 [==============================] - 8s 133us/step - loss: 0.3783 - acc: 0.8755\n",
      "Epoch 16/20\n",
      "60000/60000 [==============================] - 8s 132us/step - loss: 0.3728 - acc: 0.8750\n",
      "Epoch 17/20\n",
      "60000/60000 [==============================] - 8s 131us/step - loss: 0.3753 - acc: 0.8791\n",
      "Epoch 18/20\n",
      "60000/60000 [==============================] - 8s 129us/step - loss: 0.3717 - acc: 0.8787\n",
      "Epoch 19/20\n",
      "60000/60000 [==============================] - 8s 128us/step - loss: 0.3691 - acc: 0.8781\n",
      "Epoch 20/20\n",
      "60000/60000 [==============================] - 8s 130us/step - loss: 0.3650 - acc: 0.8794\n",
      "10000/10000 [==============================] - 1s 92us/step\n"
     ]
    },
    {
     "data": {
      "image/png": "[encoded data removed]",
      "text/plain": [
       "<Figure size 432x288 with 1 Axes>"
      ]
     },
     "metadata": {},
     "output_type": "display_data"
    },
    {
     "name": "stdout",
     "output_type": "stream",
     "text": [
      "final :\n",
      "loss = 0.4317686444282532  , accuracy = 0.8697\n"
     ]
    }
   ],
   "source": [
    "import matplotlib.pyplot as plt\n",
    "# from keras.utils.vis_utils import plot_model\n",
    "\n",
    "\n",
    "# one hidden layer 128 bits with dropout\n",
    "\n",
    "model = Sequential()\n",
    "model.add(Dense(64, input_dim=x_train.shape[1], activation='relu'))\n",
    "model.add(Dense(128, activation='relu'))\n",
    "model.add(Dropout(0.4))\n",
    "model.add(Dense(10, activation='softmax'))\n",
    "\n",
    "model.compile(loss='categorical_crossentropy',\n",
    "              optimizer='rmsprop',\n",
    "              metrics=['accuracy'])\n",
    "\n",
    "print('----------------------- Description of the Model -----------------------------\\n')\n",
    "print(model.summary(), '\\n\\n')\n",
    "\n",
    "fr = model.fit(x_train, y_train,\n",
    "          epochs=20,\n",
    "          batch_size=128)\n",
    "score = model.evaluate(x_test, y_test, batch_size=128)\n",
    "\n",
    "x_epochs = list(range(1, 20 + 1))\n",
    "y_loss = fr.history['loss']\n",
    "y_acc = fr.history['acc']\n",
    "\n",
    "plt.plot(x_epochs, y_loss, label = 'loss')\n",
    "plt.plot(x_epochs, y_acc, label = 'accuracy')\n",
    "\n",
    "leg = plt.legend(loc='best', ncol=1, mode=\"expand\", shadow=False, fancybox=False)\n",
    "leg.get_frame().set_alpha(0.4)\n",
    "\n",
    "\n",
    "# plot_model(model, to_file='model_plot.png', show_shapes=True, show_layer_names=True)\n",
    "\n",
    "plt.show()\n",
    "\n",
    "print('final :\\nloss =', score[0], ' , accuracy =', score[1], '\\n\\n\\n\\n')\n",
    "\n",
    "\n",
    "\n",
    "# three hidden layer 64 bits with dropout\n",
    "\n",
    "model = Sequential()\n",
    "model.add(Dense(64, input_dim=x_train.shape[1], activation='relu'))\n",
    "model.add(Dense(64, activation='relu'))\n",
    "model.add(Dropout(0.4))\n",
    "model.add(Dense(64, activation='relu'))\n",
    "model.add(Dropout(0.4))\n",
    "model.add(Dense(64, activation='relu'))\n",
    "model.add(Dropout(0.4))\n",
    "model.add(Dense(10, activation='softmax'))\n",
    "\n",
    "model.compile(loss='categorical_crossentropy',\n",
    "              optimizer='rmsprop',\n",
    "              metrics=['accuracy'])\n",
    "\n",
    "print('----------------------- Description of the Model -----------------------------\\n')\n",
    "print(model.summary(), '\\n\\n')\n",
    "\n",
    "\n",
    "fr = model.fit(x_train, y_train,\n",
    "          epochs=20,\n",
    "          batch_size=128)\n",
    "score = model.evaluate(x_test, y_test, batch_size=128)\n",
    "\n",
    "x_epochs = list(range(1, 20 + 1))\n",
    "y_loss = fr.history['loss']\n",
    "y_acc = fr.history['acc']\n",
    "\n",
    "plt.plot(x_epochs, y_loss, label = 'loss')\n",
    "plt.plot(x_epochs, y_acc, label = 'accuracy')\n",
    "\n",
    "leg = plt.legend(loc='best', ncol=1, mode=\"expand\", shadow=False, fancybox=False)\n",
    "leg.get_frame().set_alpha(0.4)\n",
    "\n",
    "\n",
    "# plot_model(model, to_file='model_plot.png', show_shapes=True, show_layer_names=True)\n",
    "\n",
    "plt.show()\n",
    "\n",
    "print('final :\\nloss =', score[0], ' , accuracy =', score[1])\n",
    "\n",
    "\n",
    "# the first model ( with less but bigger layers found to be better)\n"
   ]
  },
  {
   "cell_type": "markdown",
   "metadata": {},
   "source": [
    "## Good Luck!"
   ]
  }
 ],
 "metadata": {
  "kernelspec": {
   "display_name": "Python 3",
   "language": "python",
   "name": "python3"
  },
  "language_info": {
   "codemirror_mode": {
    "name": "ipython",
    "version": 3
   },
   "file_extension": ".py",
   "mimetype": "text/x-python",
   "name": "python",
   "nbconvert_exporter": "python",
   "pygments_lexer": "ipython3",
   "version": "3.6.4"
  }
 },
 "nbformat": 4,
 "nbformat_minor": 2
}
